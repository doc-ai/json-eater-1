{
 "cells": [
  {
   "cell_type": "code",
   "execution_count": 1,
   "id": "stuck-latter",
   "metadata": {
    "scrolled": true
   },
   "outputs": [
    {
     "name": "stdout",
     "output_type": "stream",
     "text": [
      "running install\n",
      "running bdist_egg\n",
      "running egg_info\n",
      "writing json_eater.egg-info/PKG-INFO\n",
      "writing dependency_links to json_eater.egg-info/dependency_links.txt\n",
      "writing top-level names to json_eater.egg-info/top_level.txt\n",
      "reading manifest file 'json_eater.egg-info/SOURCES.txt'\n",
      "reading manifest template 'MANIFEST.in'\n",
      "writing manifest file 'json_eater.egg-info/SOURCES.txt'\n",
      "installing library code to build/bdist.macosx-10.15-x86_64/egg\n",
      "running install_lib\n",
      "running build_py\n",
      "running build_ext\n",
      "running build_rust\n",
      "cargo rustc --lib --manifest-path Cargo.toml --features pyo3/extension-module --target x86_64-apple-darwin --release --verbose -- --crate-type cdylib -C link-arg=-undefined -C link-arg=dynamic_lookup\n",
      "\u001b[0m\u001b[0m\u001b[1m\u001b[32m       Fresh\u001b[0m unicode-xid v0.2.1\n",
      "\u001b[0m\u001b[0m\u001b[1m\u001b[32m       Fresh\u001b[0m autocfg v1.0.1\n",
      "\u001b[0m\u001b[0m\u001b[1m\u001b[32m       Fresh\u001b[0m cfg-if v1.0.0\n",
      "\u001b[0m\u001b[0m\u001b[1m\u001b[32m       Fresh\u001b[0m scopeguard v1.1.0\n",
      "\u001b[0m\u001b[0m\u001b[1m\u001b[32m       Fresh\u001b[0m lazy_static v1.4.0\n",
      "\u001b[0m\u001b[0m\u001b[1m\u001b[32m       Fresh\u001b[0m smallvec v1.6.1\n",
      "\u001b[0m\u001b[0m\u001b[1m\u001b[32m       Fresh\u001b[0m unindent v0.1.7\n",
      "\u001b[0m\u001b[0m\u001b[1m\u001b[32m       Fresh\u001b[0m either v1.6.1\n",
      "\u001b[0m\u001b[0m\u001b[1m\u001b[32m       Fresh\u001b[0m itoa v0.4.7\n",
      "\u001b[0m\u001b[0m\u001b[1m\u001b[32m       Fresh\u001b[0m instant v0.1.9\n",
      "\u001b[0m\u001b[0m\u001b[1m\u001b[32m       Fresh\u001b[0m lock_api v0.4.2\n",
      "\u001b[0m\u001b[0m\u001b[1m\u001b[32m       Fresh\u001b[0m proc-macro2 v1.0.24\n",
      "\u001b[0m\u001b[0m\u001b[1m\u001b[32m       Fresh\u001b[0m quote v1.0.9\n",
      "\u001b[0m\u001b[0m\u001b[1m\u001b[32m       Fresh\u001b[0m libc v0.2.89\n",
      "\u001b[0m\u001b[0m\u001b[1m\u001b[32m       Fresh\u001b[0m proc-macro-hack v0.5.19\n",
      "\u001b[0m\u001b[0m\u001b[1m\u001b[32m       Fresh\u001b[0m crossbeam-utils v0.8.3\n",
      "\u001b[0m\u001b[0m\u001b[1m\u001b[32m       Fresh\u001b[0m memoffset v0.6.1\n",
      "\u001b[0m\u001b[0m\u001b[1m\u001b[32m       Fresh\u001b[0m syn v1.0.64\n",
      "\u001b[0m\u001b[0m\u001b[1m\u001b[32m       Fresh\u001b[0m parking_lot_core v0.8.3\n",
      "\u001b[0m\u001b[0m\u001b[1m\u001b[32m       Fresh\u001b[0m paste-impl v0.1.18\n",
      "\u001b[0m\u001b[0m\u001b[1m\u001b[32m       Fresh\u001b[0m crossbeam-channel v0.5.0\n",
      "\u001b[0m\u001b[0m\u001b[1m\u001b[32m       Fresh\u001b[0m num_cpus v1.13.0\n",
      "\u001b[0m\u001b[0m\u001b[1m\u001b[32m       Fresh\u001b[0m ryu v1.0.5\n",
      "\u001b[0m\u001b[0m\u001b[1m\u001b[32m       Fresh\u001b[0m inventory-impl v0.1.10\n",
      "\u001b[0m\u001b[0m\u001b[1m\u001b[32m       Fresh\u001b[0m ghost v0.1.2\n",
      "\u001b[0m\u001b[0m\u001b[1m\u001b[32m       Fresh\u001b[0m serde_derive v1.0.125\n",
      "\u001b[0m\u001b[0m\u001b[1m\u001b[32m       Fresh\u001b[0m pyo3-macros-backend v0.13.2\n",
      "\u001b[0m\u001b[0m\u001b[1m\u001b[32m       Fresh\u001b[0m crossbeam-epoch v0.9.3\n",
      "\u001b[0m\u001b[0m\u001b[1m\u001b[32m       Fresh\u001b[0m indoc-impl v0.3.6\n",
      "\u001b[0m\u001b[0m\u001b[1m\u001b[32m       Fresh\u001b[0m ctor v0.1.19\n",
      "\u001b[0m\u001b[0m\u001b[1m\u001b[32m       Fresh\u001b[0m paste v0.1.18\n",
      "\u001b[0m\u001b[0m\u001b[1m\u001b[32m       Fresh\u001b[0m parking_lot v0.11.1\n",
      "\u001b[0m\u001b[0m\u001b[1m\u001b[32m       Fresh\u001b[0m serde v1.0.125\n",
      "\u001b[0m\u001b[0m\u001b[1m\u001b[32m       Fresh\u001b[0m inventory v0.1.10\n",
      "\u001b[0m\u001b[0m\u001b[1m\u001b[32m       Fresh\u001b[0m pyo3-macros v0.13.2\n",
      "\u001b[0m\u001b[0m\u001b[1m\u001b[32m       Fresh\u001b[0m indoc v0.3.6\n",
      "\u001b[0m\u001b[0m\u001b[1m\u001b[32m       Fresh\u001b[0m crossbeam-deque v0.8.0\n",
      "\u001b[0m\u001b[0m\u001b[1m\u001b[32m       Fresh\u001b[0m serde_json v1.0.64\n",
      "\u001b[0m\u001b[0m\u001b[1m\u001b[32m       Fresh\u001b[0m pyo3 v0.13.2\n",
      "\u001b[0m\u001b[0m\u001b[1m\u001b[32m       Fresh\u001b[0m rayon-core v1.9.0\n",
      "\u001b[0m\u001b[0m\u001b[1m\u001b[32m       Fresh\u001b[0m pythonize v0.13.0\n",
      "\u001b[0m\u001b[0m\u001b[1m\u001b[32m       Fresh\u001b[0m rayon v1.5.0\n",
      "\u001b[K\u001b[0m\u001b[0m\u001b[1m\u001b[32m       Fresh\u001b[0m json-eater v0.1.0 (/Users/kartik/Documents/Toniq/json-eater)72\n",
      "\u001b[K\u001b[0m\u001b[0m\u001b[1m\u001b[32m    Finished\u001b[0m release [optimized] target(s) in 0.08s===============> ] 71/72\n",
      "creating build/bdist.macosx-10.15-x86_64/egg\n",
      "creating build/bdist.macosx-10.15-x86_64/egg/json_eater\n",
      "copying build/lib.macosx-10.15-x86_64-3.8/json_eater/__init__.py -> build/bdist.macosx-10.15-x86_64/egg/json_eater\n",
      "copying build/lib.macosx-10.15-x86_64-3.8/json_eater/json_eater.cpython-38-darwin.so -> build/bdist.macosx-10.15-x86_64/egg/json_eater\n",
      "byte-compiling build/bdist.macosx-10.15-x86_64/egg/json_eater/__init__.py to __init__.cpython-38.pyc\n",
      "creating build/bdist.macosx-10.15-x86_64/egg/EGG-INFO\n",
      "copying json_eater.egg-info/PKG-INFO -> build/bdist.macosx-10.15-x86_64/egg/EGG-INFO\n",
      "copying json_eater.egg-info/SOURCES.txt -> build/bdist.macosx-10.15-x86_64/egg/EGG-INFO\n",
      "copying json_eater.egg-info/dependency_links.txt -> build/bdist.macosx-10.15-x86_64/egg/EGG-INFO\n",
      "copying json_eater.egg-info/not-zip-safe -> build/bdist.macosx-10.15-x86_64/egg/EGG-INFO\n",
      "copying json_eater.egg-info/top_level.txt -> build/bdist.macosx-10.15-x86_64/egg/EGG-INFO\n",
      "writing build/bdist.macosx-10.15-x86_64/egg/EGG-INFO/native_libs.txt\n",
      "creating 'dist/json_eater-0.0.2-py3.8-macosx-10.15-x86_64.egg' and adding 'build/bdist.macosx-10.15-x86_64/egg' to it\n",
      "removing 'build/bdist.macosx-10.15-x86_64/egg' (and everything under it)\n",
      "Processing json_eater-0.0.2-py3.8-macosx-10.15-x86_64.egg\n",
      "removing '/Users/kartik/Documents/Toniq/json-eater/.venv/lib/python3.8/site-packages/json_eater-0.0.2-py3.8-macosx-10.15-x86_64.egg' (and everything under it)\n",
      "creating /Users/kartik/Documents/Toniq/json-eater/.venv/lib/python3.8/site-packages/json_eater-0.0.2-py3.8-macosx-10.15-x86_64.egg\n",
      "Extracting json_eater-0.0.2-py3.8-macosx-10.15-x86_64.egg to /Users/kartik/Documents/Toniq/json-eater/.venv/lib/python3.8/site-packages\n",
      "json-eater 0.0.2 is already the active version in easy-install.pth\n",
      "\n",
      "Installed /Users/kartik/Documents/Toniq/json-eater/.venv/lib/python3.8/site-packages/json_eater-0.0.2-py3.8-macosx-10.15-x86_64.egg\n",
      "Processing dependencies for json-eater==0.0.2\n",
      "Finished processing dependencies for json-eater==0.0.2\n"
     ]
    }
   ],
   "source": [
    "!cd ../;  python setup.py install "
   ]
  },
  {
   "cell_type": "code",
   "execution_count": 2,
   "id": "imperial-island",
   "metadata": {},
   "outputs": [],
   "source": [
    "import json_eater\n",
    "import urllib\n",
    "import json"
   ]
  },
  {
   "cell_type": "code",
   "execution_count": 5,
   "id": "individual-xerox",
   "metadata": {},
   "outputs": [],
   "source": [
    "movies = urllib.request.urlopen(\"https://raw.githubusercontent.com/prust/wikipedia-movie-data/master/movies.json\")"
   ]
  },
  {
   "cell_type": "code",
   "execution_count": 6,
   "id": "twenty-australian",
   "metadata": {},
   "outputs": [],
   "source": [
    "data = movies.read().decode('utf-8')"
   ]
  },
  {
   "cell_type": "code",
   "execution_count": 7,
   "id": "czech-conditions",
   "metadata": {},
   "outputs": [
    {
     "name": "stdout",
     "output_type": "stream",
     "text": [
      "CPU times: user 3 µs, sys: 0 ns, total: 3 µs\n",
      "Wall time: 7.15 µs\n"
     ]
    },
    {
     "data": {
      "text/plain": [
       "175305"
      ]
     },
     "execution_count": 7,
     "metadata": {},
     "output_type": "execute_result"
    }
   ],
   "source": [
    "%time\n",
    "res = json_eater.eat(data)\n",
    "len(res)"
   ]
  },
  {
   "cell_type": "code",
   "execution_count": null,
   "id": "daily-trash",
   "metadata": {},
   "outputs": [],
   "source": [
    "res"
   ]
  },
  {
   "cell_type": "code",
   "execution_count": 8,
   "id": "charming-experiment",
   "metadata": {},
   "outputs": [],
   "source": [
    "data = '{\"a\" : \"{\\\\\"b\\\\\": 1}\"}'"
   ]
  },
  {
   "cell_type": "code",
   "execution_count": 9,
   "id": "forbidden-relative",
   "metadata": {},
   "outputs": [
    {
     "data": {
      "text/plain": [
       "[{'path': 'b',\n",
       "  'vuint': None,\n",
       "  'vint': 1,\n",
       "  'vfloat': None,\n",
       "  'vstr': None,\n",
       "  'vbool': None}]"
      ]
     },
     "execution_count": 9,
     "metadata": {},
     "output_type": "execute_result"
    }
   ],
   "source": [
    "json_eater.eat(data, target_json_path=\"/a\", is_str_json=True)"
   ]
  },
  {
   "cell_type": "code",
   "execution_count": 10,
   "id": "apparent-cotton",
   "metadata": {},
   "outputs": [],
   "source": [
    "with open('./rows.json') as f:\n",
    "    data = f.read()\n",
    "    "
   ]
  },
  {
   "cell_type": "code",
   "execution_count": null,
   "id": "living-sierra",
   "metadata": {},
   "outputs": [],
   "source": [
    "%time\n",
    "x = json_eater.eat(data)\n",
    "\n",
    "print(len(x))\n",
    "\n"
   ]
  },
  {
   "cell_type": "code",
   "execution_count": null,
   "id": "earlier-portland",
   "metadata": {},
   "outputs": [],
   "source": [
    "x"
   ]
  },
  {
   "cell_type": "code",
   "execution_count": null,
   "id": "criminal-ancient",
   "metadata": {},
   "outputs": [],
   "source": []
  }
 ],
 "metadata": {
  "kernelspec": {
   "display_name": "Python 3",
   "language": "python",
   "name": "python3"
  },
  "language_info": {
   "codemirror_mode": {
    "name": "ipython",
    "version": 3
   },
   "file_extension": ".py",
   "mimetype": "text/x-python",
   "name": "python",
   "nbconvert_exporter": "python",
   "pygments_lexer": "ipython3",
   "version": "3.8.6"
  }
 },
 "nbformat": 4,
 "nbformat_minor": 5
}
