{
 "cells": [
  {
   "cell_type": "code",
   "execution_count": 13,
   "id": "stuck-latter",
   "metadata": {},
   "outputs": [
    {
     "name": "stdout",
     "output_type": "stream",
     "text": [
      "running install\n",
      "running bdist_egg\n",
      "running egg_info\n",
      "writing json_eater.egg-info/PKG-INFO\n",
      "writing dependency_links to json_eater.egg-info/dependency_links.txt\n",
      "writing top-level names to json_eater.egg-info/top_level.txt\n",
      "reading manifest file 'json_eater.egg-info/SOURCES.txt'\n",
      "reading manifest template 'MANIFEST.in'\n",
      "writing manifest file 'json_eater.egg-info/SOURCES.txt'\n",
      "installing library code to build/bdist.macosx-10.15-x86_64/egg\n",
      "running install_lib\n",
      "running build_py\n",
      "running build_ext\n",
      "running build_rust\n",
      "cargo rustc --lib --manifest-path Cargo.toml --features pyo3/extension-module --target x86_64-apple-darwin --release --verbose -- --crate-type cdylib -C link-arg=-undefined -C link-arg=dynamic_lookup\n",
      "\u001b[0m\u001b[0m\u001b[1m\u001b[32m       Fresh\u001b[0m unicode-xid v0.2.1\n",
      "\u001b[0m\u001b[0m\u001b[1m\u001b[32m       Fresh\u001b[0m autocfg v1.0.1\n",
      "\u001b[0m\u001b[0m\u001b[1m\u001b[32m       Fresh\u001b[0m cfg-if v1.0.0\n",
      "\u001b[0m\u001b[0m\u001b[1m\u001b[32m       Fresh\u001b[0m scopeguard v1.1.0\n",
      "\u001b[0m\u001b[0m\u001b[1m\u001b[32m       Fresh\u001b[0m lazy_static v1.4.0\n",
      "\u001b[0m\u001b[0m\u001b[1m\u001b[32m       Fresh\u001b[0m smallvec v1.6.1\n",
      "\u001b[0m\u001b[0m\u001b[1m\u001b[32m       Fresh\u001b[0m unindent v0.1.7\n",
      "\u001b[0m\u001b[0m\u001b[1m\u001b[32m       Fresh\u001b[0m itoa v0.4.7\n",
      "\u001b[0m\u001b[0m\u001b[1m\u001b[32m       Fresh\u001b[0m either v1.6.1\n",
      "\u001b[0m\u001b[0m\u001b[1m\u001b[32m       Fresh\u001b[0m instant v0.1.9\n",
      "\u001b[0m\u001b[0m\u001b[1m\u001b[32m       Fresh\u001b[0m lock_api v0.4.2\n",
      "\u001b[0m\u001b[0m\u001b[1m\u001b[32m       Fresh\u001b[0m proc-macro2 v1.0.24\n",
      "\u001b[0m\u001b[0m\u001b[1m\u001b[32m       Fresh\u001b[0m libc v0.2.89\n",
      "\u001b[0m\u001b[0m\u001b[1m\u001b[32m       Fresh\u001b[0m proc-macro-hack v0.5.19\n",
      "\u001b[0m\u001b[0m\u001b[1m\u001b[32m       Fresh\u001b[0m quote v1.0.9\n",
      "\u001b[0m\u001b[0m\u001b[1m\u001b[32m       Fresh\u001b[0m crossbeam-utils v0.8.3\n",
      "\u001b[0m\u001b[0m\u001b[1m\u001b[32m       Fresh\u001b[0m memoffset v0.6.1\n",
      "\u001b[0m\u001b[0m\u001b[1m\u001b[32m       Fresh\u001b[0m parking_lot_core v0.8.3\n",
      "\u001b[0m\u001b[0m\u001b[1m\u001b[32m       Fresh\u001b[0m num_cpus v1.13.0\n",
      "\u001b[0m\u001b[0m\u001b[1m\u001b[32m       Fresh\u001b[0m ryu v1.0.5\n",
      "\u001b[0m\u001b[0m\u001b[1m\u001b[32m       Fresh\u001b[0m syn v1.0.64\n",
      "\u001b[0m\u001b[0m\u001b[1m\u001b[32m       Fresh\u001b[0m crossbeam-epoch v0.9.3\n",
      "\u001b[0m\u001b[0m\u001b[1m\u001b[32m       Fresh\u001b[0m paste-impl v0.1.18\n",
      "\u001b[0m\u001b[0m\u001b[1m\u001b[32m       Fresh\u001b[0m parking_lot v0.11.1\n",
      "\u001b[0m\u001b[0m\u001b[1m\u001b[32m       Fresh\u001b[0m crossbeam-channel v0.5.0\n",
      "\u001b[0m\u001b[0m\u001b[1m\u001b[32m       Fresh\u001b[0m inventory-impl v0.1.10\n",
      "\u001b[0m\u001b[0m\u001b[1m\u001b[32m       Fresh\u001b[0m ghost v0.1.2\n",
      "\u001b[0m\u001b[0m\u001b[1m\u001b[32m       Fresh\u001b[0m serde_derive v1.0.125\n",
      "\u001b[0m\u001b[0m\u001b[1m\u001b[32m       Fresh\u001b[0m ctor v0.1.19\n",
      "\u001b[0m\u001b[0m\u001b[1m\u001b[32m       Fresh\u001b[0m pyo3-macros-backend v0.13.2\n",
      "\u001b[0m\u001b[0m\u001b[1m\u001b[32m       Fresh\u001b[0m indoc-impl v0.3.6\n",
      "\u001b[0m\u001b[0m\u001b[1m\u001b[32m       Fresh\u001b[0m crossbeam-deque v0.8.0\n",
      "\u001b[0m\u001b[0m\u001b[1m\u001b[32m       Fresh\u001b[0m paste v0.1.18\n",
      "\u001b[0m\u001b[0m\u001b[1m\u001b[32m       Fresh\u001b[0m inventory v0.1.10\n",
      "\u001b[0m\u001b[0m\u001b[1m\u001b[32m       Fresh\u001b[0m serde v1.0.125\n",
      "\u001b[0m\u001b[0m\u001b[1m\u001b[32m       Fresh\u001b[0m pyo3-macros v0.13.2\n",
      "\u001b[0m\u001b[0m\u001b[1m\u001b[32m       Fresh\u001b[0m indoc v0.3.6\n",
      "\u001b[0m\u001b[0m\u001b[1m\u001b[32m       Fresh\u001b[0m rayon-core v1.9.0\n",
      "\u001b[0m\u001b[0m\u001b[1m\u001b[32m       Fresh\u001b[0m serde_json v1.0.64\n",
      "\u001b[0m\u001b[0m\u001b[1m\u001b[32m       Fresh\u001b[0m pyo3 v0.13.2\n",
      "\u001b[0m\u001b[0m\u001b[1m\u001b[32m       Fresh\u001b[0m rayon v1.5.0\n",
      "\u001b[K\u001b[0m\u001b[0m\u001b[1m\u001b[32m       Fresh\u001b[0m pythonize v0.13.0=================================>    ] 68/72\n",
      "\u001b[K\u001b[0m\u001b[0m\u001b[1m\u001b[32m   Compiling\u001b[0m json-eater v0.1.0 (/Users/kartik/Documents/Toniq/json-eater)72\n",
      "\u001b[K\u001b[0m\u001b[0m\u001b[1m\u001b[32m     Running\u001b[0m `rustc --crate-name json_eater --edition=2018 src/lib.rs --error-format=json --json=diagnostic-rendered-ansi --crate-type cdylib --emit=dep-info,link -C opt-level=3 -Cembed-bitcode=no --crate-type cdylib -C link-arg=-undefined -C link-arg=dynamic_lookup -C metadata=d888205dd80d5a57 --out-dir /Users/kartik/Documents/Toniq/json-eater/target/x86_64-apple-darwin/release/deps --target x86_64-apple-darwin -L dependency=/Users/kartik/Documents/Toniq/json-eater/target/x86_64-apple-darwin/release/deps -L dependency=/Users/kartik/Documents/Toniq/json-eater/target/release/deps --extern pyo3=/Users/kartik/Documents/Toniq/json-eater/target/x86_64-apple-darwin/release/deps/libpyo3-92156d37375865b7.rlib --extern pythonize=/Users/kartik/Documents/Toniq/json-eater/target/x86_64-apple-darwin/release/deps/libpythonize-349caa93f300f69e.rlib --extern rayon=/Users/kartik/Documents/Toniq/json-eater/target/x86_64-apple-darwin/release/deps/librayon-0747ed52ca90b7fe.rlib --extern serde=/Users/kartik/Documents/Toniq/json-eater/target/x86_64-apple-darwin/release/deps/libserde-d131179576474333.rlib --extern serde_json=/Users/kartik/Documents/Toniq/json-eater/target/x86_64-apple-darwin/release/deps/libserde_json-5424e1f8b6db0223.rlib -C 'link-args=-Wl,-install_name,@rpath/json_eater.cpython-38-darwin.so'`\n",
      "\u001b[K\u001b[0m\u001b[1m\u001b[33mwarning\u001b[0m\u001b[0m\u001b[1m: unused variable: `is_str_json`\u001b[0m===================> ] 71/72\n",
      "\u001b[0m   \u001b[0m\u001b[0m\u001b[1m\u001b[38;5;12m--> \u001b[0m\u001b[0msrc/lib.rs:175:22\u001b[0m\n",
      "\u001b[0m    \u001b[0m\u001b[0m\u001b[1m\u001b[38;5;12m|\u001b[0m\n",
      "\u001b[0m\u001b[1m\u001b[38;5;12m175\u001b[0m\u001b[0m \u001b[0m\u001b[0m\u001b[1m\u001b[38;5;12m| \u001b[0m\u001b[0m                Some(is_str_json) => {\u001b[0m\n",
      "\u001b[0m    \u001b[0m\u001b[0m\u001b[1m\u001b[38;5;12m| \u001b[0m\u001b[0m                     \u001b[0m\u001b[0m\u001b[1m\u001b[33m^^^^^^^^^^^\u001b[0m\u001b[0m \u001b[0m\u001b[0m\u001b[1m\u001b[33mhelp: if this is intentional, prefix it with an underscore: `_is_str_json`\u001b[0m\n",
      "\u001b[0m    \u001b[0m\u001b[0m\u001b[1m\u001b[38;5;12m|\u001b[0m\n",
      "\u001b[0m    \u001b[0m\u001b[0m\u001b[1m\u001b[38;5;12m= \u001b[0m\u001b[0m\u001b[1mnote\u001b[0m\u001b[0m: `#[warn(unused_variables)]` on by default\u001b[0m\n",
      "\n",
      "\u001b[K\u001b[0m\u001b[1m\u001b[33mwarning\u001b[0m\u001b[0m\u001b[1m: 1 warning emitted\u001b[0m================================> ] 71/72\n",
      "\n",
      "\u001b[K\u001b[0m\u001b[0m\u001b[1m\u001b[32m    Finished\u001b[0m release [optimized] target(s) in 1.55s===============> ] 71/72\n",
      "creating build/bdist.macosx-10.15-x86_64/egg\n",
      "creating build/bdist.macosx-10.15-x86_64/egg/json_eater\n",
      "copying build/lib.macosx-10.15-x86_64-3.8/json_eater/__init__.py -> build/bdist.macosx-10.15-x86_64/egg/json_eater\n",
      "copying build/lib.macosx-10.15-x86_64-3.8/json_eater/json_eater.cpython-38-darwin.so -> build/bdist.macosx-10.15-x86_64/egg/json_eater\n",
      "byte-compiling build/bdist.macosx-10.15-x86_64/egg/json_eater/__init__.py to __init__.cpython-38.pyc\n",
      "creating build/bdist.macosx-10.15-x86_64/egg/EGG-INFO\n",
      "copying json_eater.egg-info/PKG-INFO -> build/bdist.macosx-10.15-x86_64/egg/EGG-INFO\n",
      "copying json_eater.egg-info/SOURCES.txt -> build/bdist.macosx-10.15-x86_64/egg/EGG-INFO\n",
      "copying json_eater.egg-info/dependency_links.txt -> build/bdist.macosx-10.15-x86_64/egg/EGG-INFO\n",
      "copying json_eater.egg-info/not-zip-safe -> build/bdist.macosx-10.15-x86_64/egg/EGG-INFO\n",
      "copying json_eater.egg-info/top_level.txt -> build/bdist.macosx-10.15-x86_64/egg/EGG-INFO\n",
      "writing build/bdist.macosx-10.15-x86_64/egg/EGG-INFO/native_libs.txt\n",
      "creating 'dist/json_eater-0.0.2-py3.8-macosx-10.15-x86_64.egg' and adding 'build/bdist.macosx-10.15-x86_64/egg' to it\n",
      "removing 'build/bdist.macosx-10.15-x86_64/egg' (and everything under it)\n",
      "Processing json_eater-0.0.2-py3.8-macosx-10.15-x86_64.egg\n",
      "removing '/Users/kartik/Documents/Toniq/json-eater/.venv/lib/python3.8/site-packages/json_eater-0.0.2-py3.8-macosx-10.15-x86_64.egg' (and everything under it)\n",
      "creating /Users/kartik/Documents/Toniq/json-eater/.venv/lib/python3.8/site-packages/json_eater-0.0.2-py3.8-macosx-10.15-x86_64.egg\n",
      "Extracting json_eater-0.0.2-py3.8-macosx-10.15-x86_64.egg to /Users/kartik/Documents/Toniq/json-eater/.venv/lib/python3.8/site-packages\n",
      "json-eater 0.0.2 is already the active version in easy-install.pth\n",
      "\n",
      "Installed /Users/kartik/Documents/Toniq/json-eater/.venv/lib/python3.8/site-packages/json_eater-0.0.2-py3.8-macosx-10.15-x86_64.egg\n",
      "Processing dependencies for json-eater==0.0.2\n",
      "Finished processing dependencies for json-eater==0.0.2\n"
     ]
    }
   ],
   "source": [
    "!cd ../;  python setup.py install "
   ]
  },
  {
   "cell_type": "code",
   "execution_count": 2,
   "id": "sensitive-calculation",
   "metadata": {},
   "outputs": [
    {
     "name": "stdout",
     "output_type": "stream",
     "text": [
      "Requirement already satisfied: pandas in /Users/kartik/Documents/Toniq/json-eater/.venv/lib/python3.8/site-packages (1.2.3)\r\n",
      "Requirement already satisfied: numpy>=1.16.5 in /Users/kartik/Documents/Toniq/json-eater/.venv/lib/python3.8/site-packages (from pandas) (1.20.1)\r\n",
      "Requirement already satisfied: python-dateutil>=2.7.3 in /Users/kartik/Documents/Toniq/json-eater/.venv/lib/python3.8/site-packages (from pandas) (2.8.1)\r\n",
      "Requirement already satisfied: pytz>=2017.3 in /Users/kartik/Documents/Toniq/json-eater/.venv/lib/python3.8/site-packages (from pandas) (2021.1)\r\n",
      "Requirement already satisfied: six>=1.5 in /Users/kartik/Documents/Toniq/json-eater/.venv/lib/python3.8/site-packages (from python-dateutil>=2.7.3->pandas) (1.15.0)\r\n"
     ]
    }
   ],
   "source": [
    "!pip install pandas"
   ]
  },
  {
   "cell_type": "code",
   "execution_count": 14,
   "id": "imperial-island",
   "metadata": {},
   "outputs": [],
   "source": [
    "import json_eater\n",
    "import urllib"
   ]
  },
  {
   "cell_type": "code",
   "execution_count": 4,
   "id": "individual-xerox",
   "metadata": {},
   "outputs": [],
   "source": [
    "movies = urllib.request.urlopen(\"https://raw.githubusercontent.com/prust/wikipedia-movie-data/master/movies.json\")"
   ]
  },
  {
   "cell_type": "code",
   "execution_count": 5,
   "id": "twenty-australian",
   "metadata": {},
   "outputs": [],
   "source": [
    "data = movies.read().decode('utf-8')"
   ]
  },
  {
   "cell_type": "code",
   "execution_count": 15,
   "id": "czech-conditions",
   "metadata": {},
   "outputs": [
    {
     "name": "stdout",
     "output_type": "stream",
     "text": [
      "CPU times: user 2 µs, sys: 0 ns, total: 2 µs\n",
      "Wall time: 7.15 µs\n"
     ]
    }
   ],
   "source": [
    "%time\n",
    "res = json_eater.eat(data)"
   ]
  },
  {
   "cell_type": "code",
   "execution_count": 16,
   "id": "elder-yugoslavia",
   "metadata": {},
   "outputs": [],
   "source": []
  },
  {
   "cell_type": "code",
   "execution_count": 19,
   "id": "facial-battlefield",
   "metadata": {},
   "outputs": [],
   "source": [
    "import json"
   ]
  },
  {
   "cell_type": "code",
   "execution_count": 27,
   "id": "impressive-balloon",
   "metadata": {},
   "outputs": [
    {
     "data": {
      "text/plain": [
       "{'a': '{\"b\": 1}'}"
      ]
     },
     "execution_count": 27,
     "metadata": {},
     "output_type": "execute_result"
    }
   ],
   "source": [
    "data = '{\"a\" : \"{\\\\\"b\\\\\": 1}\"}'\n",
    "json.loads(data)"
   ]
  },
  {
   "cell_type": "code",
   "execution_count": 29,
   "id": "present-collapse",
   "metadata": {},
   "outputs": [
    {
     "ename": "TypeError",
     "evalue": "eat() got an unexpected keyword argument: target_json_path",
     "output_type": "error",
     "traceback": [
      "\u001b[0;31m-------------------------------------------------------------------\u001b[0m",
      "\u001b[0;31mTypeError\u001b[0m                         Traceback (most recent call last)",
      "\u001b[0;32m<ipython-input-29-ef1ed86d24d4>\u001b[0m in \u001b[0;36m<module>\u001b[0;34m\u001b[0m\n\u001b[0;32m----> 1\u001b[0;31m \u001b[0mjson_eater\u001b[0m\u001b[0;34m.\u001b[0m\u001b[0meat\u001b[0m\u001b[0;34m(\u001b[0m\u001b[0mdata\u001b[0m\u001b[0;34m,\u001b[0m \u001b[0mtarget_json_path\u001b[0m\u001b[0;34m=\u001b[0m\u001b[0;34m\"/a\"\u001b[0m\u001b[0;34m,\u001b[0m \u001b[0mis_str_json\u001b[0m\u001b[0;34m=\u001b[0m\u001b[0;32mTrue\u001b[0m\u001b[0;34m)\u001b[0m\u001b[0;34m\u001b[0m\u001b[0;34m\u001b[0m\u001b[0m\n\u001b[0m",
      "\u001b[0;31mTypeError\u001b[0m: eat() got an unexpected keyword argument: target_json_path"
     ]
    }
   ],
   "source": [
    "json_eater.eat(data, target_json_path=\"/a\", is_str_json=True)"
   ]
  },
  {
   "cell_type": "code",
   "execution_count": 11,
   "id": "recovered-cover",
   "metadata": {},
   "outputs": [],
   "source": [
    "import pandas as pd"
   ]
  },
  {
   "cell_type": "code",
   "execution_count": 12,
   "id": "destroyed-tractor",
   "metadata": {},
   "outputs": [
    {
     "data": {
      "text/html": [
       "<div>\n",
       "<style scoped>\n",
       "    .dataframe tbody tr th:only-of-type {\n",
       "        vertical-align: middle;\n",
       "    }\n",
       "\n",
       "    .dataframe tbody tr th {\n",
       "        vertical-align: top;\n",
       "    }\n",
       "\n",
       "    .dataframe thead th {\n",
       "        text-align: right;\n",
       "    }\n",
       "</style>\n",
       "<table border=\"1\" class=\"dataframe\">\n",
       "  <thead>\n",
       "    <tr style=\"text-align: right;\">\n",
       "      <th></th>\n",
       "      <th>path</th>\n",
       "      <th>vuint</th>\n",
       "      <th>vint</th>\n",
       "      <th>vfloat</th>\n",
       "      <th>vstr</th>\n",
       "      <th>vbool</th>\n",
       "    </tr>\n",
       "  </thead>\n",
       "  <tbody>\n",
       "    <tr>\n",
       "      <th>0</th>\n",
       "      <td>[0, title]</td>\n",
       "      <td>None</td>\n",
       "      <td>NaN</td>\n",
       "      <td>None</td>\n",
       "      <td>After Dark in Central Park</td>\n",
       "      <td>None</td>\n",
       "    </tr>\n",
       "    <tr>\n",
       "      <th>1</th>\n",
       "      <td>[0, year]</td>\n",
       "      <td>None</td>\n",
       "      <td>1900.0</td>\n",
       "      <td>None</td>\n",
       "      <td>None</td>\n",
       "      <td>None</td>\n",
       "    </tr>\n",
       "    <tr>\n",
       "      <th>2</th>\n",
       "      <td>[1, title]</td>\n",
       "      <td>None</td>\n",
       "      <td>NaN</td>\n",
       "      <td>None</td>\n",
       "      <td>Boarding School Girls' Pajama Parade</td>\n",
       "      <td>None</td>\n",
       "    </tr>\n",
       "    <tr>\n",
       "      <th>3</th>\n",
       "      <td>[1, year]</td>\n",
       "      <td>None</td>\n",
       "      <td>1900.0</td>\n",
       "      <td>None</td>\n",
       "      <td>None</td>\n",
       "      <td>None</td>\n",
       "    </tr>\n",
       "    <tr>\n",
       "      <th>4</th>\n",
       "      <td>[2, title]</td>\n",
       "      <td>None</td>\n",
       "      <td>NaN</td>\n",
       "      <td>None</td>\n",
       "      <td>Buffalo Bill's Wild West Parad</td>\n",
       "      <td>None</td>\n",
       "    </tr>\n",
       "    <tr>\n",
       "      <th>...</th>\n",
       "      <td>...</td>\n",
       "      <td>...</td>\n",
       "      <td>...</td>\n",
       "      <td>...</td>\n",
       "      <td>...</td>\n",
       "      <td>...</td>\n",
       "    </tr>\n",
       "    <tr>\n",
       "      <th>173475</th>\n",
       "      <td>[28794, cast, 4]</td>\n",
       "      <td>None</td>\n",
       "      <td>NaN</td>\n",
       "      <td>None</td>\n",
       "      <td>Scoot McNairy</td>\n",
       "      <td>None</td>\n",
       "    </tr>\n",
       "    <tr>\n",
       "      <th>173476</th>\n",
       "      <td>[28794, genres, 0]</td>\n",
       "      <td>None</td>\n",
       "      <td>NaN</td>\n",
       "      <td>None</td>\n",
       "      <td>Crime</td>\n",
       "      <td>None</td>\n",
       "    </tr>\n",
       "    <tr>\n",
       "      <th>173477</th>\n",
       "      <td>[28794, genres, 1]</td>\n",
       "      <td>None</td>\n",
       "      <td>NaN</td>\n",
       "      <td>None</td>\n",
       "      <td>Thriller</td>\n",
       "      <td>None</td>\n",
       "    </tr>\n",
       "    <tr>\n",
       "      <th>173478</th>\n",
       "      <td>[28794, title]</td>\n",
       "      <td>None</td>\n",
       "      <td>NaN</td>\n",
       "      <td>None</td>\n",
       "      <td>Destroyer</td>\n",
       "      <td>None</td>\n",
       "    </tr>\n",
       "    <tr>\n",
       "      <th>173479</th>\n",
       "      <td>[28794, year]</td>\n",
       "      <td>None</td>\n",
       "      <td>2018.0</td>\n",
       "      <td>None</td>\n",
       "      <td>None</td>\n",
       "      <td>None</td>\n",
       "    </tr>\n",
       "  </tbody>\n",
       "</table>\n",
       "<p>173480 rows × 6 columns</p>\n",
       "</div>"
      ],
      "text/plain": [
       "                      path vuint    vint vfloat  \\\n",
       "0               [0, title]  None     NaN   None   \n",
       "1                [0, year]  None  1900.0   None   \n",
       "2               [1, title]  None     NaN   None   \n",
       "3                [1, year]  None  1900.0   None   \n",
       "4               [2, title]  None     NaN   None   \n",
       "...                    ...   ...     ...    ...   \n",
       "173475    [28794, cast, 4]  None     NaN   None   \n",
       "173476  [28794, genres, 0]  None     NaN   None   \n",
       "173477  [28794, genres, 1]  None     NaN   None   \n",
       "173478      [28794, title]  None     NaN   None   \n",
       "173479       [28794, year]  None  2018.0   None   \n",
       "\n",
       "                                        vstr vbool  \n",
       "0                 After Dark in Central Park  None  \n",
       "1                                       None  None  \n",
       "2       Boarding School Girls' Pajama Parade  None  \n",
       "3                                       None  None  \n",
       "4             Buffalo Bill's Wild West Parad  None  \n",
       "...                                      ...   ...  \n",
       "173475                         Scoot McNairy  None  \n",
       "173476                                 Crime  None  \n",
       "173477                              Thriller  None  \n",
       "173478                             Destroyer  None  \n",
       "173479                                  None  None  \n",
       "\n",
       "[173480 rows x 6 columns]"
      ]
     },
     "execution_count": 12,
     "metadata": {},
     "output_type": "execute_result"
    }
   ],
   "source": [
    "pd.DataFrame(res)"
   ]
  },
  {
   "cell_type": "code",
   "execution_count": null,
   "id": "apparent-cotton",
   "metadata": {},
   "outputs": [],
   "source": []
  }
 ],
 "metadata": {
  "kernelspec": {
   "display_name": "Python 3",
   "language": "python",
   "name": "python3"
  },
  "language_info": {
   "codemirror_mode": {
    "name": "ipython",
    "version": 3
   },
   "file_extension": ".py",
   "mimetype": "text/x-python",
   "name": "python",
   "nbconvert_exporter": "python",
   "pygments_lexer": "ipython3",
   "version": "3.8.6"
  }
 },
 "nbformat": 4,
 "nbformat_minor": 5
}
