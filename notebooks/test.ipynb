{
 "cells": [
  {
   "cell_type": "code",
   "execution_count": 1,
   "id": "stuck-latter",
   "metadata": {
    "scrolled": true
   },
   "outputs": [
    {
     "name": "stdout",
     "output_type": "stream",
     "text": [
      "running install\n",
      "running bdist_egg\n",
      "running egg_info\n",
      "writing json_eater.egg-info/PKG-INFO\n",
      "writing dependency_links to json_eater.egg-info/dependency_links.txt\n",
      "writing top-level names to json_eater.egg-info/top_level.txt\n",
      "reading manifest file 'json_eater.egg-info/SOURCES.txt'\n",
      "reading manifest template 'MANIFEST.in'\n",
      "writing manifest file 'json_eater.egg-info/SOURCES.txt'\n",
      "installing library code to build/bdist.macosx-10.15-x86_64/egg\n",
      "running install_lib\n",
      "running build_py\n",
      "copying json_eater/__init__.py -> build/lib.macosx-10.15-x86_64-3.8/json_eater\n",
      "running build_ext\n",
      "running build_rust\n",
      "cargo rustc --lib --manifest-path Cargo.toml --features pyo3/extension-module --target x86_64-apple-darwin --release --verbose -- --crate-type cdylib -C link-arg=-undefined -C link-arg=dynamic_lookup\n",
      "\u001b[0m\u001b[0m\u001b[1m\u001b[32m       Fresh\u001b[0m autocfg v1.0.1\n",
      "\u001b[0m\u001b[0m\u001b[1m\u001b[32m       Fresh\u001b[0m cfg-if v1.0.0\n",
      "\u001b[0m\u001b[0m\u001b[1m\u001b[32m       Fresh\u001b[0m unicode-xid v0.2.1\n",
      "\u001b[0m\u001b[0m\u001b[1m\u001b[32m       Fresh\u001b[0m lazy_static v1.4.0\n",
      "\u001b[0m\u001b[0m\u001b[1m\u001b[32m       Fresh\u001b[0m scopeguard v1.1.0\n",
      "\u001b[0m\u001b[0m\u001b[1m\u001b[32m       Fresh\u001b[0m smallvec v1.6.1\n",
      "\u001b[0m\u001b[0m\u001b[1m\u001b[32m       Fresh\u001b[0m byteorder v1.4.3\n",
      "\u001b[0m\u001b[0m\u001b[1m\u001b[32m       Fresh\u001b[0m hashbrown v0.9.1\n",
      "\u001b[0m\u001b[0m\u001b[1m\u001b[32m       Fresh\u001b[0m alloc-no-stdlib v2.0.1\n",
      "\u001b[0m\u001b[0m\u001b[1m\u001b[32m       Fresh\u001b[0m itoa v0.4.7\n",
      "\u001b[0m\u001b[0m\u001b[1m\u001b[32m       Fresh\u001b[0m ppv-lite86 v0.2.10\n",
      "\u001b[0m\u001b[0m\u001b[1m\u001b[32m       Fresh\u001b[0m integer-encoding v1.1.7\n",
      "\u001b[0m\u001b[0m\u001b[1m\u001b[32m       Fresh\u001b[0m adler v1.0.2\n",
      "\u001b[0m\u001b[0m\u001b[1m\u001b[32m       Fresh\u001b[0m regex-syntax v0.6.23\n",
      "\u001b[0m\u001b[0m\u001b[1m\u001b[32m       Fresh\u001b[0m static_assertions v1.1.0\n",
      "\u001b[0m\u001b[0m\u001b[1m\u001b[32m       Fresh\u001b[0m arrayvec v0.5.2\n",
      "\u001b[0m\u001b[0m\u001b[1m\u001b[32m       Fresh\u001b[0m unindent v0.1.7\n",
      "\u001b[0m\u001b[0m\u001b[1m\u001b[32m       Fresh\u001b[0m hex v0.4.3\n",
      "\u001b[0m\u001b[0m\u001b[1m\u001b[32m       Fresh\u001b[0m either v1.6.1\n",
      "\u001b[0m\u001b[0m\u001b[1m\u001b[32m       Fresh\u001b[0m base64 v0.12.3\n",
      "\u001b[0m\u001b[0m\u001b[1m\u001b[32m       Fresh\u001b[0m uuid v0.8.2\n",
      "\u001b[0m\u001b[0m\u001b[1m\u001b[32m       Fresh\u001b[0m instant v0.1.9\n",
      "\u001b[0m\u001b[0m\u001b[1m\u001b[32m       Fresh\u001b[0m lock_api v0.4.2\n",
      "\u001b[0m\u001b[0m\u001b[1m\u001b[32m       Fresh\u001b[0m regex-automata v0.1.9\n",
      "\u001b[0m\u001b[0m\u001b[1m\u001b[32m       Fresh\u001b[0m alloc-stdlib v0.2.1\n",
      "\u001b[0m\u001b[0m\u001b[1m\u001b[32m       Fresh\u001b[0m proc-macro2 v1.0.24\n",
      "\u001b[0m\u001b[0m\u001b[1m\u001b[32m       Fresh\u001b[0m libc v0.2.89\n",
      "\u001b[0m\u001b[0m\u001b[1m\u001b[32m       Fresh\u001b[0m memchr v2.3.4\n",
      "\u001b[0m\u001b[0m\u001b[1m\u001b[32m       Fresh\u001b[0m proc-macro-hack v0.5.19\n",
      "\u001b[0m\u001b[0m\u001b[1m\u001b[32m       Fresh\u001b[0m ryu v1.0.5\n",
      "\u001b[0m\u001b[0m\u001b[1m\u001b[32m       Fresh\u001b[0m bitflags v1.2.1\n",
      "\u001b[0m\u001b[0m\u001b[1m\u001b[32m       Fresh\u001b[0m log v0.4.14\n",
      "\u001b[0m\u001b[0m\u001b[1m\u001b[32m       Fresh\u001b[0m brotli-decompressor v2.3.1\n",
      "\u001b[0m\u001b[0m\u001b[1m\u001b[32m       Fresh\u001b[0m quote v1.0.9\n",
      "\u001b[0m\u001b[0m\u001b[1m\u001b[32m       Fresh\u001b[0m jobserver v0.1.21\n",
      "\u001b[0m\u001b[0m\u001b[1m\u001b[32m       Fresh\u001b[0m num-traits v0.2.14\n",
      "\u001b[0m\u001b[0m\u001b[1m\u001b[32m       Fresh\u001b[0m num_cpus v1.13.0\n",
      "\u001b[0m\u001b[0m\u001b[1m\u001b[32m       Fresh\u001b[0m crossbeam-utils v0.8.3\n",
      "\u001b[0m\u001b[0m\u001b[1m\u001b[32m       Fresh\u001b[0m getrandom v0.1.16\n",
      "\u001b[0m\u001b[0m\u001b[1m\u001b[32m       Fresh\u001b[0m memoffset v0.6.1\n",
      "\u001b[0m\u001b[0m\u001b[1m\u001b[32m       Fresh\u001b[0m aho-corasick v0.7.15\n",
      "\u001b[0m\u001b[0m\u001b[1m\u001b[32m       Fresh\u001b[0m csv-core v0.1.10\n",
      "\u001b[0m\u001b[0m\u001b[1m\u001b[32m       Fresh\u001b[0m parking_lot_core v0.8.3\n",
      "\u001b[0m\u001b[0m\u001b[1m\u001b[32m       Fresh\u001b[0m time v0.1.44\n",
      "\u001b[0m\u001b[0m\u001b[1m\u001b[32m       Fresh\u001b[0m crc32fast v1.2.1\n",
      "\u001b[0m\u001b[0m\u001b[1m\u001b[32m       Fresh\u001b[0m snap v1.0.4\n",
      "\u001b[0m\u001b[0m\u001b[1m\u001b[32m       Fresh\u001b[0m syn v1.0.64\n",
      "\u001b[0m\u001b[0m\u001b[1m\u001b[32m       Fresh\u001b[0m cc v1.0.67\n",
      "\u001b[0m\u001b[0m\u001b[1m\u001b[32m       Fresh\u001b[0m num-integer v0.1.44\n",
      "\u001b[0m\u001b[0m\u001b[1m\u001b[32m       Fresh\u001b[0m indexmap v1.6.2\n",
      "\u001b[0m\u001b[0m\u001b[1m\u001b[32m       Fresh\u001b[0m paste-impl v0.1.18\n",
      "\u001b[0m\u001b[0m\u001b[1m\u001b[32m       Fresh\u001b[0m threadpool v1.8.1\n",
      "\u001b[0m\u001b[0m\u001b[1m\u001b[32m       Fresh\u001b[0m ordered-float v1.1.1\n",
      "\u001b[0m\u001b[0m\u001b[1m\u001b[32m       Fresh\u001b[0m num-complex v0.3.1\n",
      "\u001b[0m\u001b[0m\u001b[1m\u001b[32m       Fresh\u001b[0m miniz_oxide v0.4.4\n",
      "\u001b[0m\u001b[0m\u001b[1m\u001b[32m       Fresh\u001b[0m lexical-core v0.7.5\n",
      "\u001b[0m\u001b[0m\u001b[1m\u001b[32m       Fresh\u001b[0m brotli v3.3.0\n",
      "\u001b[0m\u001b[0m\u001b[1m\u001b[32m       Fresh\u001b[0m serde_derive v1.0.125\n",
      "\u001b[0m\u001b[0m\u001b[1m\u001b[32m       Fresh\u001b[0m rand_core v0.5.1\n",
      "\u001b[0m\u001b[0m\u001b[1m\u001b[32m       Fresh\u001b[0m num-bigint v0.3.2\n",
      "\u001b[0m\u001b[0m\u001b[1m\u001b[32m       Fresh\u001b[0m thiserror-impl v1.0.24\n",
      "\u001b[0m\u001b[0m\u001b[1m\u001b[32m       Fresh\u001b[0m ghost v0.1.2\n",
      "\u001b[0m\u001b[0m\u001b[1m\u001b[32m       Fresh\u001b[0m indoc-impl v0.3.6\n",
      "\u001b[0m\u001b[0m\u001b[1m\u001b[32m       Fresh\u001b[0m crossbeam-epoch v0.9.3\n",
      "\u001b[0m\u001b[0m\u001b[1m\u001b[32m       Fresh\u001b[0m inventory-impl v0.1.10\n",
      "\u001b[0m\u001b[0m\u001b[1m\u001b[32m       Fresh\u001b[0m num-iter v0.1.42\n",
      "\u001b[0m\u001b[0m\u001b[1m\u001b[32m       Fresh\u001b[0m pyo3-macros-backend v0.13.2\n",
      "\u001b[0m\u001b[0m\u001b[1m\u001b[32m       Fresh\u001b[0m ctor v0.1.19\n",
      "\u001b[0m\u001b[0m\u001b[1m\u001b[32m       Fresh\u001b[0m crossbeam-channel v0.5.0\n",
      "\u001b[0m\u001b[0m\u001b[1m\u001b[32m       Fresh\u001b[0m regex v1.4.5\n",
      "\u001b[0m\u001b[0m\u001b[1m\u001b[32m       Fresh\u001b[0m parking_lot v0.11.1\n",
      "\u001b[0m\u001b[0m\u001b[1m\u001b[32m       Fresh\u001b[0m paste v0.1.18\n",
      "\u001b[0m\u001b[0m\u001b[1m\u001b[32m       Fresh\u001b[0m chrono v0.4.19\n",
      "\u001b[0m\u001b[0m\u001b[1m\u001b[32m       Fresh\u001b[0m serde v1.0.125\n",
      "\u001b[0m\u001b[0m\u001b[1m\u001b[32m       Fresh\u001b[0m num-rational v0.3.2\n",
      "\u001b[0m\u001b[0m\u001b[1m\u001b[32m       Fresh\u001b[0m thiserror v1.0.24\n",
      "\u001b[0m\u001b[0m\u001b[1m\u001b[32m       Fresh\u001b[0m rand_chacha v0.2.2\n",
      "\u001b[0m\u001b[0m\u001b[1m\u001b[32m       Fresh\u001b[0m crossbeam-deque v0.8.0\n",
      "\u001b[0m\u001b[0m\u001b[1m\u001b[32m       Fresh\u001b[0m thrift v0.13.0\n",
      "\u001b[0m\u001b[0m\u001b[1m\u001b[32m       Fresh\u001b[0m indoc v0.3.6\n",
      "\u001b[0m\u001b[0m\u001b[1m\u001b[32m       Fresh\u001b[0m flate2 v1.0.20\n",
      "\u001b[0m\u001b[0m\u001b[1m\u001b[32m       Fresh\u001b[0m zstd-sys v1.4.20+zstd.1.4.9\n",
      "\u001b[0m\u001b[0m\u001b[1m\u001b[32m       Fresh\u001b[0m bstr v0.2.15\n",
      "\u001b[0m\u001b[0m\u001b[1m\u001b[32m       Fresh\u001b[0m serde_json v1.0.64\n",
      "\u001b[0m\u001b[0m\u001b[1m\u001b[32m       Fresh\u001b[0m lz4-sys v1.9.2\n",
      "\u001b[0m\u001b[0m\u001b[1m\u001b[32m       Fresh\u001b[0m pyo3-macros v0.13.2\n",
      "\u001b[0m\u001b[0m\u001b[1m\u001b[32m       Fresh\u001b[0m rand v0.7.3\n",
      "\u001b[0m\u001b[0m\u001b[1m\u001b[32m       Fresh\u001b[0m flatbuffers v0.8.3\n",
      "\u001b[0m\u001b[0m\u001b[1m\u001b[32m       Fresh\u001b[0m inventory v0.1.10\n",
      "\u001b[0m\u001b[0m\u001b[1m\u001b[32m       Fresh\u001b[0m num v0.3.1\n",
      "\u001b[0m\u001b[0m\u001b[1m\u001b[32m       Fresh\u001b[0m rayon-core v1.9.0\n",
      "\u001b[0m\u001b[0m\u001b[1m\u001b[32m       Fresh\u001b[0m csv v1.1.6\n",
      "\u001b[0m\u001b[0m\u001b[1m\u001b[32m       Fresh\u001b[0m zstd-safe v3.0.1+zstd.1.4.9\n",
      "\u001b[0m\u001b[0m\u001b[1m\u001b[32m       Fresh\u001b[0m lz4 v1.23.2\n",
      "\u001b[0m\u001b[0m\u001b[1m\u001b[32m       Fresh\u001b[0m pyo3 v0.13.2\n",
      "\u001b[0m\u001b[0m\u001b[1m\u001b[32m       Fresh\u001b[0m parquet-format v2.6.1\n",
      "\u001b[0m\u001b[0m\u001b[1m\u001b[32m       Fresh\u001b[0m zstd v0.6.1+zstd.1.4.9\n",
      "\u001b[0m\u001b[0m\u001b[1m\u001b[32m       Fresh\u001b[0m arrow v3.0.0\n",
      "\u001b[0m\u001b[0m\u001b[1m\u001b[32m       Fresh\u001b[0m rayon v1.5.0\n",
      "\u001b[0m\u001b[0m\u001b[1m\u001b[32m       Fresh\u001b[0m pythonize v0.13.0\n",
      "\u001b[0m\u001b[0m\u001b[1m\u001b[32m       Fresh\u001b[0m parquet v3.0.0\n",
      "\u001b[K\u001b[0m\u001b[0m\u001b[1m\u001b[32m   Compiling\u001b[0m json-eater v0.1.0 (/Users/kartik/Documents/Toniq/json-eater)69\n",
      "\u001b[K\u001b[0m\u001b[0m\u001b[1m\u001b[32m     Running\u001b[0m `rustc --crate-name json_eater --edition=2018 src/lib.rs --error-format=json --json=diagnostic-rendered-ansi --crate-type cdylib --emit=dep-info,link -C opt-level=3 -Cembed-bitcode=no --crate-type cdylib -C link-arg=-undefined -C link-arg=dynamic_lookup -C metadata=d888205dd80d5a57 --out-dir /Users/kartik/Documents/Toniq/json-eater/target/x86_64-apple-darwin/release/deps --target x86_64-apple-darwin -L dependency=/Users/kartik/Documents/Toniq/json-eater/target/x86_64-apple-darwin/release/deps -L dependency=/Users/kartik/Documents/Toniq/json-eater/target/release/deps --extern parquet=/Users/kartik/Documents/Toniq/json-eater/target/x86_64-apple-darwin/release/deps/libparquet-20eb58dc432f1bb0.rlib --extern pyo3=/Users/kartik/Documents/Toniq/json-eater/target/x86_64-apple-darwin/release/deps/libpyo3-92156d37375865b7.rlib --extern pythonize=/Users/kartik/Documents/Toniq/json-eater/target/x86_64-apple-darwin/release/deps/libpythonize-6f43010657f7cb5c.rlib --extern rayon=/Users/kartik/Documents/Toniq/json-eater/target/x86_64-apple-darwin/release/deps/librayon-0747ed52ca90b7fe.rlib --extern serde=/Users/kartik/Documents/Toniq/json-eater/target/x86_64-apple-darwin/release/deps/libserde-3492a7cbbe67b0e1.rlib --extern serde_json=/Users/kartik/Documents/Toniq/json-eater/target/x86_64-apple-darwin/release/deps/libserde_json-9fa804359518efe9.rlib --extern uuid=/Users/kartik/Documents/Toniq/json-eater/target/x86_64-apple-darwin/release/deps/libuuid-d99578a83f8cb4ca.rlib -C 'link-args=-Wl,-install_name,@rpath/json_eater.cpython-38-darwin.so' -L native=/Users/kartik/Documents/Toniq/json-eater/target/x86_64-apple-darwin/release/build/lz4-sys-0fa1209944019324/out -L native=/Users/kartik/Documents/Toniq/json-eater/target/x86_64-apple-darwin/release/build/zstd-sys-c96614f5b2763927/out`\n",
      "\u001b[K\u001b[0m\u001b[1m\u001b[33mwarning\u001b[0m\u001b[0m\u001b[1m: unused import: `json`\u001b[0m==========================> ] 168/169\n",
      "\u001b[0m \u001b[0m\u001b[0m\u001b[1m\u001b[38;5;12m--> \u001b[0m\u001b[0msrc/lib.rs:9:25\u001b[0m\n",
      "\u001b[0m  \u001b[0m\u001b[0m\u001b[1m\u001b[38;5;12m|\u001b[0m\n",
      "\u001b[0m\u001b[1m\u001b[38;5;12m9\u001b[0m\u001b[0m \u001b[0m\u001b[0m\u001b[1m\u001b[38;5;12m| \u001b[0m\u001b[0muse serde_json::{Value, json};\u001b[0m\n",
      "\u001b[0m  \u001b[0m\u001b[0m\u001b[1m\u001b[38;5;12m| \u001b[0m\u001b[0m                        \u001b[0m\u001b[0m\u001b[1m\u001b[33m^^^^\u001b[0m\n",
      "\u001b[0m  \u001b[0m\u001b[0m\u001b[1m\u001b[38;5;12m|\u001b[0m\n",
      "\u001b[0m  \u001b[0m\u001b[0m\u001b[1m\u001b[38;5;12m= \u001b[0m\u001b[0m\u001b[1mnote\u001b[0m\u001b[0m: `#[warn(unused_imports)]` on by default\u001b[0m\n",
      "\n",
      "\u001b[K\u001b[0m\u001b[1m\u001b[33mwarning\u001b[0m\u001b[0m\u001b[1m: unused import: `json`\u001b[0m==========================> ] 168/169\n",
      "\u001b[0m  \u001b[0m\u001b[0m\u001b[1m\u001b[38;5;12m--> \u001b[0m\u001b[0msrc/pq.rs:10:18\u001b[0m\n",
      "\u001b[0m   \u001b[0m\u001b[0m\u001b[1m\u001b[38;5;12m|\u001b[0m\n",
      "\u001b[0m\u001b[1m\u001b[38;5;12m10\u001b[0m\u001b[0m \u001b[0m\u001b[0m\u001b[1m\u001b[38;5;12m| \u001b[0m\u001b[0muse serde_json::{json, Value};\u001b[0m\n",
      "\u001b[0m   \u001b[0m\u001b[0m\u001b[1m\u001b[38;5;12m| \u001b[0m\u001b[0m                 \u001b[0m\u001b[0m\u001b[1m\u001b[33m^^^^\u001b[0m\n",
      "\n",
      "\u001b[K\u001b[0m\u001b[1m\u001b[33mwarning\u001b[0m\u001b[0m\u001b[1m: unused import: `std::path::*`\u001b[0m==================> ] 168/169\n",
      "\u001b[0m  \u001b[0m\u001b[0m\u001b[1m\u001b[38;5;12m--> \u001b[0m\u001b[0msrc/lib.rs:19:5\u001b[0m\n",
      "\u001b[0m   \u001b[0m\u001b[0m\u001b[1m\u001b[38;5;12m|\u001b[0m\n",
      "\u001b[0m\u001b[1m\u001b[38;5;12m19\u001b[0m\u001b[0m \u001b[0m\u001b[0m\u001b[1m\u001b[38;5;12m| \u001b[0m\u001b[0muse std::path::*;\u001b[0m\n",
      "\u001b[0m   \u001b[0m\u001b[0m\u001b[1m\u001b[38;5;12m| \u001b[0m\u001b[0m    \u001b[0m\u001b[0m\u001b[1m\u001b[33m^^^^^^^^^^^^\u001b[0m\n",
      "\n",
      "\u001b[0m\u001b[1m\u001b[33mwarning\u001b[0m\u001b[0m\u001b[1m: unused import: `std::path::PathBuf`\u001b[0m\n",
      "\u001b[0m  \u001b[0m\u001b[0m\u001b[1m\u001b[38;5;12m--> \u001b[0m\u001b[0msrc/lib.rs:20:5\u001b[0m\n",
      "\u001b[0m   \u001b[0m\u001b[0m\u001b[1m\u001b[38;5;12m|\u001b[0m\n",
      "\u001b[0m\u001b[1m\u001b[38;5;12m20\u001b[0m\u001b[0m \u001b[0m\u001b[0m\u001b[1m\u001b[38;5;12m| \u001b[0m\u001b[0muse std::path::PathBuf;\u001b[0m\n",
      "\u001b[0m   \u001b[0m\u001b[0m\u001b[1m\u001b[38;5;12m| \u001b[0m\u001b[0m    \u001b[0m\u001b[0m\u001b[1m\u001b[33m^^^^^^^^^^^^^^^^^^\u001b[0m\n",
      "\n"
     ]
    },
    {
     "name": "stdout",
     "output_type": "stream",
     "text": [
      "\u001b[K\u001b[0m\u001b[1m\u001b[33mwarning\u001b[0m\u001b[0m\u001b[1m: value assigned to `num_type` is never read\u001b[0m=====> ] 168/169\n",
      "\u001b[0m  \u001b[0m\u001b[0m\u001b[1m\u001b[38;5;12m--> \u001b[0m\u001b[0msrc/pq.rs:38:37\u001b[0m\n",
      "\u001b[0m   \u001b[0m\u001b[0m\u001b[1m\u001b[38;5;12m|\u001b[0m\n",
      "\u001b[0m\u001b[1m\u001b[38;5;12m38\u001b[0m\u001b[0m \u001b[0m\u001b[0m\u001b[1m\u001b[38;5;12m| ...\u001b[0m\u001b[0m                   let mut num_type: String = String::default();\u001b[0m\n",
      "\u001b[0m   \u001b[0m\u001b[0m\u001b[1m\u001b[38;5;12m| \u001b[0m\u001b[0m                          \u001b[0m\u001b[0m\u001b[1m\u001b[33m^^^^^^^^^^^^\u001b[0m\n",
      "\u001b[0m   \u001b[0m\u001b[0m\u001b[1m\u001b[38;5;12m|\u001b[0m\n",
      "\u001b[0m   \u001b[0m\u001b[0m\u001b[1m\u001b[38;5;12m= \u001b[0m\u001b[0m\u001b[1mnote\u001b[0m\u001b[0m: `#[warn(unused_assignments)]` on by default\u001b[0m\n",
      "\u001b[0m   \u001b[0m\u001b[0m\u001b[1m\u001b[38;5;12m= \u001b[0m\u001b[0m\u001b[1mhelp\u001b[0m\u001b[0m: maybe it is overwritten before being read?\u001b[0m\n",
      "\n",
      "\u001b[K\u001b[0m\u001b[1m\u001b[33mwarning\u001b[0m\u001b[0m\u001b[1m: function is never used: `gen_u64_slice`\u001b[0m========> ] 168/169\n",
      "\u001b[0m   \u001b[0m\u001b[0m\u001b[1m\u001b[38;5;12m--> \u001b[0m\u001b[0msrc/pq.rs:104:4\u001b[0m\n",
      "\u001b[0m    \u001b[0m\u001b[0m\u001b[1m\u001b[38;5;12m|\u001b[0m\n",
      "\u001b[0m\u001b[1m\u001b[38;5;12m104\u001b[0m\u001b[0m \u001b[0m\u001b[0m\u001b[1m\u001b[38;5;12m| \u001b[0m\u001b[0mfn gen_u64_slice(data: Vec<Value>) -> Vec<u64> {\u001b[0m\n",
      "\u001b[0m    \u001b[0m\u001b[0m\u001b[1m\u001b[38;5;12m| \u001b[0m\u001b[0m   \u001b[0m\u001b[0m\u001b[1m\u001b[33m^^^^^^^^^^^^^\u001b[0m\n",
      "\u001b[0m    \u001b[0m\u001b[0m\u001b[1m\u001b[38;5;12m|\u001b[0m\n",
      "\u001b[0m    \u001b[0m\u001b[0m\u001b[1m\u001b[38;5;12m= \u001b[0m\u001b[0m\u001b[1mnote\u001b[0m\u001b[0m: `#[warn(dead_code)]` on by default\u001b[0m\n",
      "\n",
      "\u001b[K\u001b[0m\u001b[1m\u001b[33mwarning\u001b[0m\u001b[0m\u001b[1m: function is never used: `gen_utf8_slice`\u001b[0m=======> ] 168/169\n",
      "\u001b[0m   \u001b[0m\u001b[0m\u001b[1m\u001b[38;5;12m--> \u001b[0m\u001b[0msrc/pq.rs:134:4\u001b[0m\n",
      "\u001b[0m    \u001b[0m\u001b[0m\u001b[1m\u001b[38;5;12m|\u001b[0m\n",
      "\u001b[0m\u001b[1m\u001b[38;5;12m134\u001b[0m\u001b[0m \u001b[0m\u001b[0m\u001b[1m\u001b[38;5;12m| \u001b[0m\u001b[0mfn gen_utf8_slice(data: Vec<Value>) -> Vec<String> {\u001b[0m\n",
      "\u001b[0m    \u001b[0m\u001b[0m\u001b[1m\u001b[38;5;12m| \u001b[0m\u001b[0m   \u001b[0m\u001b[0m\u001b[1m\u001b[33m^^^^^^^^^^^^^^\u001b[0m\n",
      "\n",
      "\u001b[K\u001b[0m\u001b[1m\u001b[33mwarning\u001b[0m\u001b[0m\u001b[1m: struct is never constructed: `SampleCollection`\u001b[0m> ] 168/169\n",
      "\u001b[0m  \u001b[0m\u001b[0m\u001b[1m\u001b[38;5;12m--> \u001b[0m\u001b[0msrc/sample.rs:26:12\u001b[0m\n",
      "\u001b[0m   \u001b[0m\u001b[0m\u001b[1m\u001b[38;5;12m|\u001b[0m\n",
      "\u001b[0m\u001b[1m\u001b[38;5;12m26\u001b[0m\u001b[0m \u001b[0m\u001b[0m\u001b[1m\u001b[38;5;12m| \u001b[0m\u001b[0mpub struct SampleCollection{\u001b[0m\n",
      "\u001b[0m   \u001b[0m\u001b[0m\u001b[1m\u001b[38;5;12m| \u001b[0m\u001b[0m           \u001b[0m\u001b[0m\u001b[1m\u001b[33m^^^^^^^^^^^^^^^^\u001b[0m\n",
      "\n",
      "\u001b[K\u001b[0m\u001b[1m\u001b[33mwarning\u001b[0m\u001b[0m\u001b[1m: function is never used: `merge_headers`\u001b[0m========> ] 168/169\n",
      "\u001b[0m  \u001b[0m\u001b[0m\u001b[1m\u001b[38;5;12m--> \u001b[0m\u001b[0msrc/sample.rs:86:8\u001b[0m\n",
      "\u001b[0m   \u001b[0m\u001b[0m\u001b[1m\u001b[38;5;12m|\u001b[0m\n",
      "\u001b[0m\u001b[1m\u001b[38;5;12m86\u001b[0m\u001b[0m \u001b[0m\u001b[0m\u001b[1m\u001b[38;5;12m| \u001b[0m\u001b[0mpub fn merge_headers(py: Python, headers: Value, sample: pyo3::Py<pyo3::PyAny>) -> Py<PyAny> {\u001b[0m\n",
      "\u001b[0m   \u001b[0m\u001b[0m\u001b[1m\u001b[38;5;12m| \u001b[0m\u001b[0m       \u001b[0m\u001b[0m\u001b[1m\u001b[33m^^^^^^^^^^^^^\u001b[0m\n",
      "\n",
      "\u001b[0m\u001b[1m\u001b[33mwarning\u001b[0m\u001b[0m\u001b[1m: function is never used: `save_sample`\u001b[0m\n",
      "\u001b[0m   \u001b[0m\u001b[0m\u001b[1m\u001b[38;5;12m--> \u001b[0m\u001b[0msrc/sample.rs:117:8\u001b[0m\n",
      "\u001b[0m    \u001b[0m\u001b[0m\u001b[1m\u001b[38;5;12m|\u001b[0m\n",
      "\u001b[0m\u001b[1m\u001b[38;5;12m117\u001b[0m\u001b[0m \u001b[0m\u001b[0m\u001b[1m\u001b[38;5;12m| \u001b[0m\u001b[0mpub fn save_sample(\u001b[0m\n",
      "\u001b[0m    \u001b[0m\u001b[0m\u001b[1m\u001b[38;5;12m| \u001b[0m\u001b[0m       \u001b[0m\u001b[0m\u001b[1m\u001b[33m^^^^^^^^^^^\u001b[0m\n",
      "\n",
      "\u001b[0m\u001b[1m\u001b[33mwarning\u001b[0m\u001b[0m\u001b[1m: function is never used: `deep_keys_v`\u001b[0m\n",
      "\u001b[0m   \u001b[0m\u001b[0m\u001b[1m\u001b[38;5;12m--> \u001b[0m\u001b[0msrc/sample.rs:132:8\u001b[0m\n",
      "\u001b[0m    \u001b[0m\u001b[0m\u001b[1m\u001b[38;5;12m|\u001b[0m\n",
      "\u001b[0m\u001b[1m\u001b[38;5;12m132\u001b[0m\u001b[0m \u001b[0m\u001b[0m\u001b[1m\u001b[38;5;12m| \u001b[0m\u001b[0mpub fn deep_keys_v(\u001b[0m\n",
      "\u001b[0m    \u001b[0m\u001b[0m\u001b[1m\u001b[38;5;12m| \u001b[0m\u001b[0m       \u001b[0m\u001b[0m\u001b[1m\u001b[33m^^^^^^^^^^^\u001b[0m\n",
      "\n",
      "\u001b[K\u001b[0m\u001b[1m\u001b[33mwarning\u001b[0m\u001b[0m\u001b[1m: 11 warnings emitted\u001b[0m============================> ] 168/169\n",
      "\n",
      "\u001b[K\u001b[0m\u001b[0m\u001b[1m\u001b[32m    Finished\u001b[0m release [optimized] target(s) in 5.55s=============> ] 168/169\n",
      "creating build/bdist.macosx-10.15-x86_64/egg\n",
      "creating build/bdist.macosx-10.15-x86_64/egg/json_eater\n",
      "copying build/lib.macosx-10.15-x86_64-3.8/json_eater/__init__.py -> build/bdist.macosx-10.15-x86_64/egg/json_eater\n",
      "copying build/lib.macosx-10.15-x86_64-3.8/json_eater/json_eater.cpython-38-darwin.so -> build/bdist.macosx-10.15-x86_64/egg/json_eater\n",
      "byte-compiling build/bdist.macosx-10.15-x86_64/egg/json_eater/__init__.py to __init__.cpython-38.pyc\n",
      "creating build/bdist.macosx-10.15-x86_64/egg/EGG-INFO\n",
      "copying json_eater.egg-info/PKG-INFO -> build/bdist.macosx-10.15-x86_64/egg/EGG-INFO\n",
      "copying json_eater.egg-info/SOURCES.txt -> build/bdist.macosx-10.15-x86_64/egg/EGG-INFO\n",
      "copying json_eater.egg-info/dependency_links.txt -> build/bdist.macosx-10.15-x86_64/egg/EGG-INFO\n",
      "copying json_eater.egg-info/not-zip-safe -> build/bdist.macosx-10.15-x86_64/egg/EGG-INFO\n",
      "copying json_eater.egg-info/top_level.txt -> build/bdist.macosx-10.15-x86_64/egg/EGG-INFO\n",
      "writing build/bdist.macosx-10.15-x86_64/egg/EGG-INFO/native_libs.txt\n",
      "creating 'dist/json_eater-0.0.2-py3.8-macosx-10.15-x86_64.egg' and adding 'build/bdist.macosx-10.15-x86_64/egg' to it\n",
      "removing 'build/bdist.macosx-10.15-x86_64/egg' (and everything under it)\n",
      "Processing json_eater-0.0.2-py3.8-macosx-10.15-x86_64.egg\n",
      "removing '/Users/kartik/Documents/Toniq/json-eater/.venv/lib/python3.8/site-packages/json_eater-0.0.2-py3.8-macosx-10.15-x86_64.egg' (and everything under it)\n",
      "creating /Users/kartik/Documents/Toniq/json-eater/.venv/lib/python3.8/site-packages/json_eater-0.0.2-py3.8-macosx-10.15-x86_64.egg\n",
      "Extracting json_eater-0.0.2-py3.8-macosx-10.15-x86_64.egg to /Users/kartik/Documents/Toniq/json-eater/.venv/lib/python3.8/site-packages\n",
      "json-eater 0.0.2 is already the active version in easy-install.pth\n",
      "\n",
      "Installed /Users/kartik/Documents/Toniq/json-eater/.venv/lib/python3.8/site-packages/json_eater-0.0.2-py3.8-macosx-10.15-x86_64.egg\n",
      "Processing dependencies for json-eater==0.0.2\n",
      "Finished processing dependencies for json-eater==0.0.2\n"
     ]
    }
   ],
   "source": [
    "!cd ../;  python setup.py install "
   ]
  },
  {
   "cell_type": "code",
   "execution_count": 2,
   "id": "imperial-island",
   "metadata": {},
   "outputs": [],
   "source": [
    "import json_eater\n",
    "import urllib\n",
    "import json"
   ]
  },
  {
   "cell_type": "code",
   "execution_count": 5,
   "id": "individual-xerox",
   "metadata": {},
   "outputs": [],
   "source": [
    "movies = urllib.request.urlopen(\"https://raw.githubusercontent.com/prust/wikipedia-movie-data/master/movies.json\")"
   ]
  },
  {
   "cell_type": "code",
   "execution_count": 6,
   "id": "twenty-australian",
   "metadata": {},
   "outputs": [],
   "source": [
    "data = movies.read().decode('utf-8')"
   ]
  },
  {
   "cell_type": "code",
   "execution_count": 7,
   "id": "czech-conditions",
   "metadata": {},
   "outputs": [
    {
     "name": "stdout",
     "output_type": "stream",
     "text": [
      "CPU times: user 3 µs, sys: 0 ns, total: 3 µs\n",
      "Wall time: 7.15 µs\n"
     ]
    },
    {
     "data": {
      "text/plain": [
       "175305"
      ]
     },
     "execution_count": 7,
     "metadata": {},
     "output_type": "execute_result"
    }
   ],
   "source": [
    "%time\n",
    "res = json_eater.eat(data)\n",
    "len(res)"
   ]
  },
  {
   "cell_type": "code",
   "execution_count": null,
   "id": "daily-trash",
   "metadata": {},
   "outputs": [],
   "source": [
    "res"
   ]
  },
  {
   "cell_type": "code",
   "execution_count": 8,
   "id": "charming-experiment",
   "metadata": {},
   "outputs": [],
   "source": [
    "data = '{\"a\" : \"{\\\\\"b\\\\\": 1}\"}'"
   ]
  },
  {
   "cell_type": "code",
   "execution_count": 9,
   "id": "forbidden-relative",
   "metadata": {},
   "outputs": [
    {
     "data": {
      "text/plain": [
       "[{'path': 'b',\n",
       "  'vuint': None,\n",
       "  'vint': 1,\n",
       "  'vfloat': None,\n",
       "  'vstr': None,\n",
       "  'vbool': None}]"
      ]
     },
     "execution_count": 9,
     "metadata": {},
     "output_type": "execute_result"
    }
   ],
   "source": [
    "json_eater.eat(data, target_json_path=\"/a\", is_str_json=True)"
   ]
  },
  {
   "cell_type": "code",
   "execution_count": 10,
   "id": "apparent-cotton",
   "metadata": {},
   "outputs": [],
   "source": [
    "with open('./rows.json') as f:\n",
    "    data = f.read()\n",
    "    "
   ]
  },
  {
   "cell_type": "code",
   "execution_count": null,
   "id": "living-sierra",
   "metadata": {},
   "outputs": [],
   "source": [
    "%time\n",
    "x = json_eater.eat(data)\n",
    "\n",
    "print(len(x))\n",
    "\n"
   ]
  },
  {
   "cell_type": "code",
   "execution_count": null,
   "id": "earlier-portland",
   "metadata": {},
   "outputs": [],
   "source": [
    "x"
   ]
  },
  {
   "cell_type": "code",
   "execution_count": null,
   "id": "criminal-ancient",
   "metadata": {},
   "outputs": [],
   "source": []
  }
 ],
 "metadata": {
  "kernelspec": {
   "display_name": "Python 3",
   "language": "python",
   "name": "python3"
  },
  "language_info": {
   "codemirror_mode": {
    "name": "ipython",
    "version": 3
   },
   "file_extension": ".py",
   "mimetype": "text/x-python",
   "name": "python",
   "nbconvert_exporter": "python",
   "pygments_lexer": "ipython3",
   "version": "3.8.8"
  }
 },
 "nbformat": 4,
 "nbformat_minor": 5
}
