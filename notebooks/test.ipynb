{
 "cells": [
  {
   "cell_type": "code",
   "execution_count": null,
   "id": "stuck-latter",
   "metadata": {
    "scrolled": true
   },
   "outputs": [],
   "source": [
    "!cd ../;  python setup.py install \n"
   ]
  },
  {
   "cell_type": "code",
   "execution_count": null,
   "id": "amended-integer",
   "metadata": {},
   "outputs": [],
   "source": [
    "\n",
    "import json_eater\n",
    "import urllib\n",
    "import json\n",
    "import pandas as pd\n",
    "movies = urllib.request.urlopen(\"https://raw.githubusercontent.com/prust/wikipedia-movie-data/master/movies.json\")\n",
    "data = movies.read().decode('utf-8')\n",
    "json_eater.eat(data, loc=\"./movies.pq\")\n",
    "pd.read_parquet(\"./movies.pq\")"
   ]
  },
  {
   "cell_type": "code",
   "execution_count": null,
   "id": "individual-xerox",
   "metadata": {},
   "outputs": [],
   "source": [
    "\n",
    "!ls"
   ]
  },
  {
   "cell_type": "code",
   "execution_count": null,
   "id": "twenty-australian",
   "metadata": {},
   "outputs": [],
   "source": []
  },
  {
   "cell_type": "code",
   "execution_count": null,
   "id": "czech-conditions",
   "metadata": {},
   "outputs": [],
   "source": [
    "%time\n",
    "res = "
   ]
  },
  {
   "cell_type": "code",
   "execution_count": null,
   "id": "binding-agenda",
   "metadata": {},
   "outputs": [],
   "source": []
  },
  {
   "cell_type": "code",
   "execution_count": null,
   "id": "artificial-canal",
   "metadata": {},
   "outputs": [],
   "source": []
  },
  {
   "cell_type": "code",
   "execution_count": null,
   "id": "sweet-diploma",
   "metadata": {},
   "outputs": [],
   "source": []
  },
  {
   "cell_type": "code",
   "execution_count": null,
   "id": "charming-experiment",
   "metadata": {},
   "outputs": [],
   "source": [
    "data = '{\"a\" : \"{\\\\\"b\\\\\": true}\"}'"
   ]
  },
  {
   "cell_type": "code",
   "execution_count": null,
   "id": "forbidden-relative",
   "metadata": {},
   "outputs": [],
   "source": [
    "json_eater.eat(data, target_json_path=\"/a\", is_str_json=True, loc=\"./test.pq\")"
   ]
  },
  {
   "cell_type": "code",
   "execution_count": null,
   "id": "apparent-cotton",
   "metadata": {},
   "outputs": [],
   "source": [
    "pd.read_parquet(\"test.pq\")"
   ]
  },
  {
   "cell_type": "code",
   "execution_count": 2,
   "id": "recent-proceeding",
   "metadata": {},
   "outputs": [],
   "source": [
    "with open('./data.json') as f:\n",
    "    data = f.read()\n"
   ]
  },
  {
   "cell_type": "code",
   "execution_count": 3,
   "id": "living-sierra",
   "metadata": {},
   "outputs": [
    {
     "name": "stdout",
     "output_type": "stream",
     "text": [
      "CPU times: user 2 µs, sys: 1 µs, total: 3 µs\n",
      "Wall time: 7.15 µs\n"
     ]
    }
   ],
   "source": [
    "%time\n",
    "json_eater.eat(data, loc=\"./hi.pq\")\n",
    "\n"
   ]
  },
  {
   "cell_type": "code",
   "execution_count": 4,
   "id": "earlier-portland",
   "metadata": {},
   "outputs": [
    {
     "data": {
      "text/html": [
       "<div>\n",
       "<style scoped>\n",
       "    .dataframe tbody tr th:only-of-type {\n",
       "        vertical-align: middle;\n",
       "    }\n",
       "\n",
       "    .dataframe tbody tr th {\n",
       "        vertical-align: top;\n",
       "    }\n",
       "\n",
       "    .dataframe thead th {\n",
       "        text-align: right;\n",
       "    }\n",
       "</style>\n",
       "<table border=\"1\" class=\"dataframe\">\n",
       "  <thead>\n",
       "    <tr style=\"text-align: right;\">\n",
       "      <th></th>\n",
       "      <th>path</th>\n",
       "      <th>vuint</th>\n",
       "      <th>vint</th>\n",
       "      <th>vfloat</th>\n",
       "      <th>vstr</th>\n",
       "      <th>vbool</th>\n",
       "    </tr>\n",
       "  </thead>\n",
       "  <tbody>\n",
       "    <tr>\n",
       "      <th>0</th>\n",
       "      <td>0/userId</td>\n",
       "      <td>NaN</td>\n",
       "      <td>NaN</td>\n",
       "      <td>NaN</td>\n",
       "      <td>db1378e1-dfed-4349-beae-6a179745898f</td>\n",
       "      <td>None</td>\n",
       "    </tr>\n",
       "    <tr>\n",
       "      <th>1</th>\n",
       "      <td>0/datatrial</td>\n",
       "      <td>NaN</td>\n",
       "      <td>NaN</td>\n",
       "      <td>NaN</td>\n",
       "      <td>ai.doc.data.trial.epilepsy</td>\n",
       "      <td>None</td>\n",
       "    </tr>\n",
       "    <tr>\n",
       "      <th>2</th>\n",
       "      <td>0/createdAt</td>\n",
       "      <td>NaN</td>\n",
       "      <td>NaN</td>\n",
       "      <td>NaN</td>\n",
       "      <td>2019-04-17 21:16:38</td>\n",
       "      <td>None</td>\n",
       "    </tr>\n",
       "    <tr>\n",
       "      <th>3</th>\n",
       "      <td>0/updatedAt</td>\n",
       "      <td>NaN</td>\n",
       "      <td>NaN</td>\n",
       "      <td>NaN</td>\n",
       "      <td>2019-04-17 21:16:38</td>\n",
       "      <td>None</td>\n",
       "    </tr>\n",
       "    <tr>\n",
       "      <th>4</th>\n",
       "      <td>0/parsed_result/consentFlow/questions/is18OrOlder</td>\n",
       "      <td>NaN</td>\n",
       "      <td>NaN</td>\n",
       "      <td>NaN</td>\n",
       "      <td>Yes</td>\n",
       "      <td>None</td>\n",
       "    </tr>\n",
       "    <tr>\n",
       "      <th>...</th>\n",
       "      <td>...</td>\n",
       "      <td>...</td>\n",
       "      <td>...</td>\n",
       "      <td>...</td>\n",
       "      <td>...</td>\n",
       "      <td>...</td>\n",
       "    </tr>\n",
       "    <tr>\n",
       "      <th>1790</th>\n",
       "      <td>6/parsed_result/consentFlow/consent/consent</td>\n",
       "      <td>NaN</td>\n",
       "      <td>NaN</td>\n",
       "      <td>NaN</td>\n",
       "      <td>None</td>\n",
       "      <td>True</td>\n",
       "    </tr>\n",
       "    <tr>\n",
       "      <th>1791</th>\n",
       "      <td>6/parsed_result/consentFlow/consent/consentDate</td>\n",
       "      <td>NaN</td>\n",
       "      <td>NaN</td>\n",
       "      <td>NaN</td>\n",
       "      <td>2020-05-22T22:05:11.859Z</td>\n",
       "      <td>None</td>\n",
       "    </tr>\n",
       "    <tr>\n",
       "      <th>1792</th>\n",
       "      <td>6/parsed_result/consentFlow/consent/timeZone</td>\n",
       "      <td>NaN</td>\n",
       "      <td>NaN</td>\n",
       "      <td>NaN</td>\n",
       "      <td>America/New_York</td>\n",
       "      <td>None</td>\n",
       "    </tr>\n",
       "    <tr>\n",
       "      <th>1793</th>\n",
       "      <td>6/email</td>\n",
       "      <td>NaN</td>\n",
       "      <td>NaN</td>\n",
       "      <td>NaN</td>\n",
       "      <td>wixigi7792@chordmi.com</td>\n",
       "      <td>None</td>\n",
       "    </tr>\n",
       "    <tr>\n",
       "      <th>1794</th>\n",
       "      <td>6/fullName</td>\n",
       "      <td>NaN</td>\n",
       "      <td>NaN</td>\n",
       "      <td>NaN</td>\n",
       "      <td>Mario Vi</td>\n",
       "      <td>None</td>\n",
       "    </tr>\n",
       "  </tbody>\n",
       "</table>\n",
       "<p>1795 rows × 6 columns</p>\n",
       "</div>"
      ],
      "text/plain": [
       "                                                   path  vuint  vint  vfloat  \\\n",
       "0                                              0/userId    NaN   NaN     NaN   \n",
       "1                                           0/datatrial    NaN   NaN     NaN   \n",
       "2                                           0/createdAt    NaN   NaN     NaN   \n",
       "3                                           0/updatedAt    NaN   NaN     NaN   \n",
       "4     0/parsed_result/consentFlow/questions/is18OrOlder    NaN   NaN     NaN   \n",
       "...                                                 ...    ...   ...     ...   \n",
       "1790        6/parsed_result/consentFlow/consent/consent    NaN   NaN     NaN   \n",
       "1791    6/parsed_result/consentFlow/consent/consentDate    NaN   NaN     NaN   \n",
       "1792       6/parsed_result/consentFlow/consent/timeZone    NaN   NaN     NaN   \n",
       "1793                                            6/email    NaN   NaN     NaN   \n",
       "1794                                         6/fullName    NaN   NaN     NaN   \n",
       "\n",
       "                                      vstr vbool  \n",
       "0     db1378e1-dfed-4349-beae-6a179745898f  None  \n",
       "1               ai.doc.data.trial.epilepsy  None  \n",
       "2                      2019-04-17 21:16:38  None  \n",
       "3                      2019-04-17 21:16:38  None  \n",
       "4                                      Yes  None  \n",
       "...                                    ...   ...  \n",
       "1790                                  None  True  \n",
       "1791              2020-05-22T22:05:11.859Z  None  \n",
       "1792                      America/New_York  None  \n",
       "1793                wixigi7792@chordmi.com  None  \n",
       "1794                              Mario Vi  None  \n",
       "\n",
       "[1795 rows x 6 columns]"
      ]
     },
     "execution_count": 4,
     "metadata": {},
     "output_type": "execute_result"
    }
   ],
   "source": [
    "pd.read_parquet(\"./hi.pq\")"
   ]
  },
  {
   "cell_type": "code",
   "execution_count": null,
   "id": "criminal-ancient",
   "metadata": {},
   "outputs": [],
   "source": []
  }
 ],
 "metadata": {
  "kernelspec": {
   "display_name": "Python 3",
   "language": "python",
   "name": "python3"
  },
  "language_info": {
   "codemirror_mode": {
    "name": "ipython",
    "version": 3
   },
   "file_extension": ".py",
   "mimetype": "text/x-python",
   "name": "python",
   "nbconvert_exporter": "python",
   "pygments_lexer": "ipython3",
   "version": "3.8.8"
  }
 },
 "nbformat": 4,
 "nbformat_minor": 5
}
