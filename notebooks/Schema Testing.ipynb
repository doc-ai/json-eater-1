{
 "cells": [
  {
   "cell_type": "code",
   "execution_count": 3,
   "id": "split-departure",
   "metadata": {},
   "outputs": [],
   "source": [
    ":dep plotly\n",
    ":dep serde_json\n",
    ":dep serde"
   ]
  },
  {
   "cell_type": "code",
   "execution_count": 4,
   "id": "alone-kansas",
   "metadata": {},
   "outputs": [],
   "source": [
    "\n",
    "use std::collections::HashMap;\n",
    "use serde::{Deserialize, Serialize};\n",
    "use serde_json::{Value, json};"
   ]
  },
  {
   "cell_type": "code",
   "execution_count": 5,
   "id": "sorted-drama",
   "metadata": {},
   "outputs": [
    {
     "output_type": "execute_result",
     "data": {
      "text/plain": [
       "Object({\"test\": Number(1)})"
      ]
     },
     "metadata": {},
     "execution_count": 5
    }
   ],
   "source": [
    "json!({\"test\": 1})"
   ]
  },
  {
   "cell_type": "code",
   "execution_count": 8,
   "id": "tender-establishment",
   "metadata": {},
   "outputs": [],
   "source": [
    "\n",
    "use serde_json::{Value};\n",
    "\n",
    "\n",
    "#[derive(Debug)]\n",
    "struct Schema {\n",
    "    pub schema: String,\n",
    "    pub cols: Vec<String>\n",
    "}\n",
    "\n",
    "impl Schema {\n",
    "    pub fn from_value(value: Value) -> Self {\n",
    "        let mut schema: String = String::from(\"message schema {\");\n",
    "        let mut cols: Vec<String> = vec![];\n",
    "\n",
    "        if value.is_object() {\n",
    "            match value {\n",
    "                Value::Object(map) => {\n",
    "                    for (k, v) in map {\n",
    "                        let schema_key: String = String::from(k.to_owned());\n",
    "                        cols.push(k.clone());\n",
    "                        let mut finalstr = format!(\"\\n \\trequired\");\n",
    "                        match v {\n",
    "                            Value::Number(number) => {\n",
    "                                let mut num_type: String = String::default();\n",
    "                                    if number.is_i64() {\n",
    "                                      num_type = String::from(\"INT64\");\n",
    "                                    } else if number.is_u64() {\n",
    "                                       num_type = String::from(\"INT64\");\n",
    "                                      \n",
    "                                    } else if number.is_f64() {\n",
    "                                       num_type = String::from(\"DOUBLE\");\n",
    "                                    } else {\n",
    "                                        num_type = String::from(\"DOUBLE\");\n",
    "                                    }\n",
    "                                \n",
    "                                finalstr = format!(\"{} {} {};\", finalstr, num_type,  schema_key);\n",
    "                 \n",
    "                            },\n",
    "                            Value::String(_v_str) => {\n",
    "                                finalstr = format!(\"{} BINARY {} (UTF8);\", finalstr, schema_key);\n",
    "                                \n",
    "                            },\n",
    "                            Value::Bool(_boolean) => { finalstr = format!(\"{} BOOLEAN {};\", finalstr, schema_key) },\n",
    "                            _ => ()\n",
    "\n",
    "                        };\n",
    "                        \n",
    "                    \n",
    "                        \n",
    "             \n",
    "                    \n",
    "                    schema.push_str(&finalstr.to_owned());\n",
    "                    }\n",
    "                },\n",
    "                _=>{}\n",
    "            }\n",
    "        } \n",
    "        \n",
    "        schema.push_str(&\"\\n}\".to_owned());\n",
    "\n",
    "        Schema{\n",
    "            schema,\n",
    "            cols\n",
    "        }\n",
    "    }\n",
    "}\n",
    "\n"
   ]
  },
  {
   "cell_type": "code",
   "execution_count": 10,
   "id": "fabulous-music",
   "metadata": {},
   "outputs": [
    {
     "output_type": "stream",
     "name": "stdout",
     "text": [
      "message schema {\n",
      " \trequired a DOUBLE;\n",
      " \trequired BOOLEAN;\n",
      " \trequired BINARY s (UTF8);\n",
      "}\n"
     ]
    },
    {
     "output_type": "execute_result",
     "data": {
      "text/plain": [
       "()"
      ]
     },
     "metadata": {},
     "execution_count": 10
    }
   ],
   "source": [
    "println!(\"{}\", Schema::from_value(json!({\"a\": 1.1, \"b\": true, \"s\": String::from(\"asdsa\")})).schema)"
   ]
  },
  {
   "cell_type": "code",
   "execution_count": 16,
   "id": "alien-bonus",
   "metadata": {},
   "outputs": [
    {
     "ename": "Error",
     "evalue": "expected `;` or `{`, found keyword `use`",
     "output_type": "error",
     "traceback": [
      "expected `;` or `{`",
      "expected `;` or `{`, found keyword `use`"
     ]
    }
   ],
   "source": [
    "fn write(data: Vec<Value>)<T> -> &[T::T] {\n",
    "    let res: Vec<T> = vec![];\n",
    "    for v in data {\n",
    "            match v {\n",
    "                    Value::Number(number) => {\n",
    "                        if number.is_i64() {\n",
    "                            res.push(number.as_i64());\n",
    "                        } else if number.is_f64() {\n",
    "                            res.push(number.as_f64());\n",
    "                        } else if number.is_u64() {\n",
    "                            res.push(number.as_u64());\n",
    "                        }\n",
    "                    }\n",
    "                    Value::Bool(boolean) => {\n",
    "                        res.push(boolean);\n",
    "                    }\n",
    "                    Value::String(string) => {\n",
    "                        res.push(string);\n",
    "                    }\n",
    "                    _ => {}\n",
    "                }\n",
    "        }\n",
    "    return &res[..];\n",
    "}"
   ]
  },
  {
   "cell_type": "code",
   "execution_count": null,
   "id": "bearing-saver",
   "metadata": {},
   "outputs": [],
   "source": []
  }
 ],
 "metadata": {
  "kernelspec": {
   "display_name": "Rust",
   "language": "rust",
   "name": "rust"
  },
  "language_info": {
   "codemirror_mode": "rust",
   "file_extension": ".rs",
   "mimetype": "text/rust",
   "name": "Rust",
   "pygment_lexer": "rust",
   "version": ""
  }
 },
 "nbformat": 4,
 "nbformat_minor": 5
}